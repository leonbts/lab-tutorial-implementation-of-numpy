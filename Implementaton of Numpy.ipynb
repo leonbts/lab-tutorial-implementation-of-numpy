{
 "cells": [
  {
   "cell_type": "markdown",
   "metadata": {
    "id": "8A01NEn8SKWm"
   },
   "source": [
    "# NumPy (Numerical Python)\n",
    "\n",
    "NumPy works on **multidimensional homogeneous array objects** and it provides a collection of functions to process those arrays. NumPy is known for the fast numerical computations. Numpy provides a high level syntax and it has a very vibrant ecosystem that interopertes for different application areas. The n-dimensional arrays are known as **ndarray**. ndarray forms the primitive building blocks of numerous python libraries."
   ]
  },
  {
   "cell_type": "markdown",
   "metadata": {
    "id": "kRC90wkCaGdV"
   },
   "source": [
    "# Importing numpy\n",
    "\n",
    "NumPy is available by default in Colab notebooks. Therefore the library can be invoked directly using the *import* statement\n",
    "\n",
    "*PS: Follow the instructions on the [Installation section](https://numpy.org/install/) of NumPy to make local installations.*\n"
   ]
  },
  {
   "cell_type": "code",
   "execution_count": 1,
   "metadata": {
    "id": "f6ey4hZmBYoe"
   },
   "outputs": [
    {
     "name": "stdout",
     "output_type": "stream",
     "text": [
      "Loaded 2.2.2 version of numpy!!!\n"
     ]
    }
   ],
   "source": [
    "import numpy as np\n",
    "print(\"Loaded\", np.__version__, \"version of numpy!!!\")"
   ]
  },
  {
   "cell_type": "markdown",
   "metadata": {
    "id": "E1QyghMraoIU"
   },
   "source": [
    "# Creating NumPy arrays\n",
    "\n",
    "The basic ndarray is created using the **array** function, which takes any sequence as an input parameter. NumPy arrays can be easily created from lists \n"
   ]
  },
  {
   "cell_type": "code",
   "execution_count": 2,
   "metadata": {
    "id": "69_hyreHan2i"
   },
   "outputs": [
    {
     "name": "stdout",
     "output_type": "stream",
     "text": [
      "var1 = [1 2 3 4 5]\n",
      "var2 = [[1 2 3 4 5]\n",
      " [6 7 8 9 0]]\n"
     ]
    }
   ],
   "source": [
    "# creating a 1 dimensional array\n",
    "var1 = np.array([1, 2, 3, 4, 5])\n",
    "\n",
    "# creating a 2 dimensional array\n",
    "var2 = np.array([[1, 2, 3, 4, 5],\n",
    "                 [6, 7, 8, 9, 0]])\n",
    "\n",
    "print(\"var1 =\", var1)\n",
    "print(\"var2 =\", var2)"
   ]
  },
  {
   "cell_type": "code",
   "execution_count": 3,
   "metadata": {
    "id": "-BsQcnkzfUnw"
   },
   "outputs": [
    {
     "name": "stdout",
     "output_type": "stream",
     "text": [
      "var3 = [1. 2. 3.]\n",
      "var4 = [1 2 3]\n",
      "var5 = [1.+0.j 2.+0.j 3.+0.j]\n"
     ]
    }
   ],
   "source": [
    "# It is also possible to specify the type of the element during array creation\n",
    "var3 = np.array([1, 2, 3], dtype=np.float32)\n",
    "print(\"var3 =\", var3)\n",
    "\n",
    "# Notice the usage of numpy arrays to create another array with a different dtype\n",
    "var4 = np.array(var3, dtype=np.int32)\n",
    "print(\"var4 =\", var4)\n",
    "\n",
    "var5 = np.array(var4, dtype=complex)\n",
    "print(\"var5 =\", var5)"
   ]
  },
  {
   "cell_type": "markdown",
   "metadata": {
    "id": "txjNpncRbr63"
   },
   "source": [
    "# Array Properties\n",
    "The important attributes of the ndarray are\n",
    "\n",
    "*   shape: Dimensions of the array\n",
    "*   size: Total number of elements in the array\n",
    "*   ndim: Number of axes\n",
    "*   dtype: Type of the elements of the array\n",
    "\n"
   ]
  },
  {
   "cell_type": "code",
   "execution_count": 4,
   "metadata": {
    "id": "-_R08BJ7djMc"
   },
   "outputs": [
    {
     "name": "stdout",
     "output_type": "stream",
     "text": [
      "int64 \t (5,) \t 5 \t 1\n",
      "int64 \t (2, 5) \t 10 \t 2\n",
      "float32 \t (3,) \t 3 \t 1\n",
      "int32 \t (3,) \t 3 \t 1\n",
      "complex128 \t (3,) \t 3 \t 1\n"
     ]
    }
   ],
   "source": [
    "print(var1.dtype, '\\t', var1.shape, '\\t', var1.size, '\\t', var1.ndim)\n",
    "print(var2.dtype, '\\t', var2.shape, '\\t', var2.size, '\\t', var2.ndim)\n",
    "print(var3.dtype, '\\t', var3.shape, '\\t', var3.size, '\\t', var3.ndim)\n",
    "print(var4.dtype, '\\t', var4.shape, '\\t', var4.size, '\\t', var4.ndim)\n",
    "print(var5.dtype, '\\t', var5.shape, '\\t', var5.size, '\\t', var5.ndim)"
   ]
  },
  {
   "cell_type": "markdown",
   "metadata": {
    "id": "s_0VKHuihhkU"
   },
   "source": [
    "# Other array creation methods\n",
    "\n",
    "It is not always necessary to have the elements defined during the creation of the arrays. There are several NumPy functions that allows you to create arrays to act as placeholders before the actual computations.\n",
    "\n",
    "**Exercise #01:**\n",
    "\n",
    "*   Create different array objects using the following functions: (1) zeros, (2) ones, (3) empty, (4) zeros_like, (5) ones_like, (6) empty_like \n"
   ]
  },
  {
   "cell_type": "code",
   "execution_count": 10,
   "metadata": {
    "id": "88Gce1SwjCOO"
   },
   "outputs": [
    {
     "data": {
      "text/plain": [
       "array([[0., 0., 0., 0.],\n",
       "       [0., 0., 0., 0.],\n",
       "       [0., 0., 0., 0.]])"
      ]
     },
     "execution_count": 10,
     "metadata": {},
     "output_type": "execute_result"
    }
   ],
   "source": [
    "np.zeros((3,4))"
   ]
  },
  {
   "cell_type": "code",
   "execution_count": 11,
   "metadata": {},
   "outputs": [
    {
     "data": {
      "text/plain": [
       "array([[1., 1., 1.],\n",
       "       [1., 1., 1.]])"
      ]
     },
     "execution_count": 11,
     "metadata": {},
     "output_type": "execute_result"
    }
   ],
   "source": [
    "np.ones((2,3))"
   ]
  },
  {
   "cell_type": "code",
   "execution_count": 21,
   "metadata": {},
   "outputs": [
    {
     "data": {
      "text/plain": [
       "array([[0., 0., 0., 0.],\n",
       "       [0., 0., 0., 0.],\n",
       "       [0., 0., 0., 0.]])"
      ]
     },
     "execution_count": 21,
     "metadata": {},
     "output_type": "execute_result"
    }
   ],
   "source": [
    "np.empty((3,4))"
   ]
  },
  {
   "cell_type": "code",
   "execution_count": 24,
   "metadata": {},
   "outputs": [
    {
     "data": {
      "text/plain": [
       "array([0, 0], dtype=int32)"
      ]
     },
     "execution_count": 24,
     "metadata": {},
     "output_type": "execute_result"
    }
   ],
   "source": [
    "arr1 = np.random.randint((3,4))\n",
    "np.zeros_like(arr1)"
   ]
  },
  {
   "cell_type": "code",
   "execution_count": 16,
   "metadata": {},
   "outputs": [
    {
     "data": {
      "text/plain": [
       "array([1, 1, 1])"
      ]
     },
     "execution_count": 16,
     "metadata": {},
     "output_type": "execute_result"
    }
   ],
   "source": [
    "np.ones_like((1,5,1))"
   ]
  },
  {
   "cell_type": "code",
   "execution_count": 18,
   "metadata": {},
   "outputs": [
    {
     "data": {
      "text/plain": [
       "array([                   0,        2483407821312, -9223372036854775808])"
      ]
     },
     "execution_count": 18,
     "metadata": {},
     "output_type": "execute_result"
    }
   ],
   "source": [
    "np.empty_like((3,4,1))"
   ]
  },
  {
   "cell_type": "markdown",
   "metadata": {
    "id": "wkSikFsXvySG"
   },
   "source": [
    "**Exercise #02:**\n",
    "\n",
    "*   What is the difference between **empty** and **zeros** methods?\n",
    "*   What is the use of **arange** and **linspace** functions?\n",
    "\n"
   ]
  },
  {
   "cell_type": "markdown",
   "metadata": {
    "id": "jHwXGNWljGA6"
   },
   "source": [
    "**Solution**\n",
    "\n",
    "zeros() is used when you want to initialize a whole array with 0's. This is useful when you want to process data where all values should start at 0.<br>\n",
    "empty() is used to create an 'empty' array with uninitialized values. In order for the array to be created, random garbage values are assigned (no initialization). This is useful when you know you'll be overwriting all these values anyways in the future. It's like creating an empty chest with leftover junk in it that you'll remove when you start to put things in the chest.\n",
    "\n",
    "arange and linspace functions generate sequences of numbers, but have different use:<br>\n",
    "arange() creates an array with values spaced by a fixed step size. It is used when you know, or rather want to utilize the step size between values.<br>\n",
    "linspace() generates an array by specifying how many values you want, rather than a step size, and spaces these evenly. It is used when you know how many values you need in total."
   ]
  },
  {
   "cell_type": "markdown",
   "metadata": {
    "id": "wbOCONUDjb0q"
   },
   "source": [
    "# Shape Manipulations"
   ]
  },
  {
   "cell_type": "code",
   "execution_count": null,
   "metadata": {
    "id": "D5acQVQWqKUC"
   },
   "outputs": [],
   "source": [
    "# Creating a numpy array using arrange function\n",
    "var6 = np.arange(10, dtype=int)\n",
    "print(var6)\n",
    "\n",
    "# Reshaping the array into 2 x 5 array\n",
    "var6 = var6.reshape(2,5)\n",
    "print(var6)\n",
    "\n",
    "# Reshaping the array in 3 dimensions\n",
    "var6 = var6.reshape(1,2,5)\n",
    "print(var6)\n",
    "\n",
    "# Note that it is not always necessary to give all three dimensions\n",
    "var6 = var6.reshape(1,2,-1)\n",
    "print(var6)"
   ]
  },
  {
   "cell_type": "markdown",
   "metadata": {
    "id": "XxeMES7tr-4z"
   },
   "source": [
    "**Exercise #03:**\n",
    "\n",
    "*   What is the difference between reshape and resize methods?\n",
    "\n"
   ]
  },
  {
   "cell_type": "markdown",
   "metadata": {
    "id": "k3VFt4FMetim"
   },
   "source": [
    "**Solution**\n",
    "\n",
    "*reshape() returns a new array, while resize() modifies the original array.*<br>\n",
    "*reshape() requires the total number of elements to remain constant, while resize() can change the total number of elements (by adding or removing data).*"
   ]
  },
  {
   "cell_type": "markdown",
   "metadata": {
    "id": "i9ZCRBDlqENA"
   },
   "source": [
    "# Indexing, Slicing and Iterating\n",
    "\n",
    "Indexing and slicing is similar to python lists. We use the **[ ]** operator for providing slices and indices."
   ]
  },
  {
   "cell_type": "code",
   "execution_count": null,
   "metadata": {
    "id": "P-CZ_trPhBwH"
   },
   "outputs": [],
   "source": [
    "var7 = np.array([1, 2, 3, 4, 5])\n",
    "\n",
    "# indexing the second element\n",
    "# Remember array indices start with 0 in numpy\n",
    "print(var7[1])\n",
    "\n",
    "# slicing the first two elements of the array\n",
    "print(var7[0:2])"
   ]
  },
  {
   "cell_type": "code",
   "execution_count": null,
   "metadata": {
    "id": "aTpnDW7qhpZX"
   },
   "outputs": [],
   "source": [
    "# it is also possible to slice arrays based on a condition\n",
    "print(var7[var7 % 2 == 0])  # prints all the even numbers in the array"
   ]
  },
  {
   "cell_type": "code",
   "execution_count": null,
   "metadata": {
    "id": "MP7Z7Zsikeaf"
   },
   "outputs": [],
   "source": [
    "var8 = np.array([[1, 2, 3], [4, 5, 6], [7, 8, 9]])\n",
    "print(var8)\n",
    "\n",
    "# indexing the element at second row and second column\n",
    "print(var8[1,1])\n",
    "\n",
    "# it is possible to slice the entire row or column\n",
    "print(var8[1])\n",
    "print(var8[:,1])\n",
    "\n",
    "# slice a particular range\n",
    "print(var8[0:2, 0:2])"
   ]
  },
  {
   "cell_type": "markdown",
   "metadata": {
    "id": "EoGBpQv_wDrn"
   },
   "source": [
    "A visual illustration of slicing mechanism can be seen here\n",
    "\n",
    "![numpy_indexing.png](https://education-team-2020.s3.eu-west-1.amazonaws.com/ds-ai/indexing-and-slicing.png)\n",
    "\n",
    "*Reference: https://lectures.scientific-python.org/intro/numpy/array_object.html#indexing-and-slicing*"
   ]
  },
  {
   "cell_type": "markdown",
   "metadata": {
    "id": "KPx5YbuBiKjw"
   },
   "source": [
    "**Exercise #04:**\n",
    "\n",
    "*   What is the use of non-zero function? Provide an example of how non-zero function can be used.\n",
    "\n"
   ]
  },
  {
   "cell_type": "markdown",
   "metadata": {
    "id": "0SbXe2gHipxo"
   },
   "source": [
    "**Solution**\n",
    "\n",
    "*The nonzero() function in NumPy is used to find the indices of non-zero elements in an array. It returns the indices of the array where the value is non-zero.*"
   ]
  },
  {
   "cell_type": "code",
   "execution_count": 2,
   "metadata": {
    "id": "07q5D1ygiblJ"
   },
   "outputs": [
    {
     "name": "stdout",
     "output_type": "stream",
     "text": [
      "Indices of non-zero elements: (array([1, 2, 4, 6]),)\n",
      "Non-zero elements: [1 2 3 4]\n"
     ]
    }
   ],
   "source": [
    "import numpy as np\n",
    "\n",
    "arr = np.array([0, 1, 2, 0, 3, 0, 4])\n",
    "\n",
    "indices = np.nonzero(arr)\n",
    "print(\"Indices of non-zero elements:\", indices)\n",
    "\n",
    "non_zero_elements = arr[indices]\n",
    "print(\"Non-zero elements:\", non_zero_elements)"
   ]
  },
  {
   "cell_type": "markdown",
   "metadata": {
    "id": "OJm98xQKzwgx"
   },
   "source": [
    "Iterating an array can be either performed using the python list style or using the nditer function."
   ]
  },
  {
   "cell_type": "code",
   "execution_count": null,
   "metadata": {
    "id": "trCOmdaxz3L6"
   },
   "outputs": [],
   "source": [
    "var9 = np.array([[1, 2, 3], [4, 5, 6]])\n",
    "\n",
    "for i in var9: # outer loop to access row\n",
    "    print(i) # returns the entire row\n",
    "\n",
    "for i in var9: # outer loop to access row\n",
    "    for j in i:  # iterating each element of the row\n",
    "        print(j) # returns the element value"
   ]
  },
  {
   "cell_type": "code",
   "execution_count": null,
   "metadata": {
    "id": "yiSVVSTpyoZI"
   },
   "outputs": [],
   "source": [
    "# an alternative to the nesting for loop is the nditer function\n",
    "var10 = np.array([[1, 2, 3], [4, 5, 6]])\n",
    "for i in np.nditer(var10):\n",
    "    print(i)"
   ]
  },
  {
   "cell_type": "markdown",
   "metadata": {
    "id": "kQbB9NlV0J72"
   },
   "source": [
    "**Exercise #05:**\n",
    "\n",
    "*   How can we enumerate a numpy array?\n",
    "\n"
   ]
  },
  {
   "cell_type": "markdown",
   "metadata": {
    "id": "E4L8-Aso0Mef"
   },
   "source": [
    "**Solution**\n",
    "\n",
    "*To enumerate a NumPy array, you can use the enumerate() function in Python. This function allows you to iterate over the array while keeping track of the index of each element.*"
   ]
  },
  {
   "cell_type": "markdown",
   "metadata": {
    "id": "H5gsMBnSuNmN"
   },
   "source": [
    "It has to be noted that, slices share memory with original array. \n",
    "\n",
    "In the below example, var12 is created by slicing var11. Notice the change in var11 after modifying var12."
   ]
  },
  {
   "cell_type": "code",
   "execution_count": null,
   "metadata": {
    "id": "wMJMuZTps94q"
   },
   "outputs": [],
   "source": [
    "var11 = np.array([1, 2, 3])\n",
    "\n",
    "var12 = var11[0:1]\n",
    "\n",
    "print('before changing:', var11)\n",
    "var12[0] = 4\n",
    "print('after changing:', var11)"
   ]
  },
  {
   "cell_type": "markdown",
   "metadata": {
    "id": "5gh4783VyOPN"
   },
   "source": [
    "This leaves us with the question of how the array copy works in numpy"
   ]
  },
  {
   "cell_type": "markdown",
   "metadata": {
    "id": "nj5X_ym4tk3D"
   },
   "source": [
    "# Array Copy\n",
    "\n",
    "When you create a new array using the '=' operator, no new copy of the array is created, ie, only a name is created but it refers to the same object."
   ]
  },
  {
   "cell_type": "code",
   "execution_count": null,
   "metadata": {
    "id": "LRuyykbj5ce8"
   },
   "outputs": [],
   "source": [
    "var13 = np.array([1, 2, 3, 4, 5])\n",
    "\n",
    "var14 = var13\n",
    "print('Before modifying', var13)\n",
    "\n",
    "var14[0] += 1\n",
    "print('After modifying', var13)"
   ]
  },
  {
   "cell_type": "markdown",
   "metadata": {
    "id": "O9LJvXVU6moG"
   },
   "source": [
    "When a view function is used to create a copy of the array, or when the array is sliced, the returned array is only a shallow copy of the original array, ie, an array object is created but the object points to the same data"
   ]
  },
  {
   "cell_type": "code",
   "execution_count": null,
   "metadata": {
    "id": "wKiN-nK07P2U"
   },
   "outputs": [],
   "source": [
    "var15 = np.array([1, 2, 3, 4, 5])\n",
    "\n",
    "var16 = var15.view()\n",
    "print('Before modifying (using view)', var15)\n",
    "\n",
    "var16[0] += 1\n",
    "print('After modifying (using view)', var15)\n",
    "\n",
    "var17 = var15[0:3]\n",
    "print('Before modifying (using slice)', var15)\n",
    "\n",
    "var17[2] += 1\n",
    "print('After modifying (using slice)', var15)"
   ]
  },
  {
   "cell_type": "markdown",
   "metadata": {
    "id": "SxMWSP-o7oFo"
   },
   "source": [
    "To create a deep copy of the array, it is necessary to use the copy method"
   ]
  },
  {
   "cell_type": "code",
   "execution_count": null,
   "metadata": {
    "id": "Y5vKaBkk87Bp"
   },
   "outputs": [],
   "source": [
    "var18 = np.array([1, 2, 3, 4, 5])\n",
    "\n",
    "var19 = var18.copy()\n",
    "print('Before modifying (using copy)', var18)\n",
    "\n",
    "var19[0] += 1\n",
    "print('After modifying (using copy)', var18)"
   ]
  },
  {
   "cell_type": "markdown",
   "metadata": {
    "id": "DdxYPyqYukNf"
   },
   "source": [
    "# Adding new axis\n",
    "\n",
    "It is also possible to increase the dimensions of a numpy array. **np.newaxis** and **expand_dims** can be used to increase the dimensions of the array. This would be used very handy in building convolutional neural networks where you would need to have uniform channel lengths *(will be used in the later exercises)*."
   ]
  },
  {
   "cell_type": "code",
   "execution_count": null,
   "metadata": {
    "id": "6pb3JQWVujSr"
   },
   "outputs": [],
   "source": [
    "var20 = np.array([1, 2, 3, 4, 5])\n",
    "print(var20.shape)\n",
    "\n",
    "a = var20[np.newaxis, :]  # adding new axis to the first axis\n",
    "print(a.shape)\n",
    "\n",
    "b = a[np.newaxis, :]  # adding new axis to the first axis\n",
    "print(b.shape)\n",
    "\n",
    "c = np.expand_dims(var20, axis=1)  # adding new axis to the second axis\n",
    "print(c.shape)\n",
    "\n",
    "d = np.expand_dims(var20, axis=0)  # adding new axis to the first axis\n",
    "print(d.shape)"
   ]
  },
  {
   "cell_type": "markdown",
   "metadata": {
    "id": "o8xkokp5s3F4"
   },
   "source": [
    "# Broadcasting Rules\n",
    "\n",
    "Broadcasting deals with how numpy treats arrays with different sizes during arithmetic operations. In general, the smaller arrays are broadcasted into the larger array shapes so that both the arrays are compatible.\n",
    "\n",
    "Read [basic broadcasting rules](https://numpy.org/doc/stable/user/basics.broadcasting.html) for basic knowledge about broadcasting.\n",
    "Also read [Array broadcasting](https://numpy.org/doc/stable/user/theory.broadcasting.html#array-broadcasting-in-numpy).\n"
   ]
  },
  {
   "cell_type": "code",
   "execution_count": null,
   "metadata": {
    "id": "8c8Rza6BJ3Eq"
   },
   "outputs": [],
   "source": [
    "var20 = np.array([[1.2, 2.3, 4.0],\n",
    "                  [1.2, 3.4, 5.2],\n",
    "                  [0.0, 1.0, 1.3],\n",
    "                  [0.0, 1.0, 2e-1]])\n",
    "\n",
    "print(var20)\n",
    "\n",
    "print(var20 * 2)  # multiplying each element with 2\n",
    "\n",
    "print(var20 + [1, 0, 1])  # multiplying each row with [1, 0, 1]]"
   ]
  },
  {
   "cell_type": "markdown",
   "metadata": {
    "id": "u-cBHSIZLX2I"
   },
   "source": [
    "**Exercise #06:**\n",
    "\n",
    "Normalizing values is an important area in any image processing and machine learning problem. In this exercise, we will try to apply normalization at different axis to understand the role of broadcasting."
   ]
  },
  {
   "cell_type": "code",
   "execution_count": 3,
   "metadata": {
    "id": "T0nzFs-8WT3n"
   },
   "outputs": [
    {
     "name": "stdout",
     "output_type": "stream",
     "text": [
      "Row-wise Mean:\n",
      "[[2.5       ]\n",
      " [3.26666667]\n",
      " [0.76666667]\n",
      " [0.4       ]]\n",
      "Column-wise Mean:\n",
      "[[0.6   1.925 2.675]]\n",
      "Row-wise Normalized Array:\n",
      "[[-1.3        -0.2         1.5       ]\n",
      " [-2.06666667  0.13333333  1.93333333]\n",
      " [-0.76666667  0.23333333  0.53333333]\n",
      " [-0.4         0.6        -0.2       ]]\n",
      "Column-wise Normalized Array:\n",
      "[[ 0.6    0.375  1.325]\n",
      " [ 0.6    1.475  2.525]\n",
      " [-0.6   -0.925 -1.375]\n",
      " [-0.6   -0.925 -2.475]]\n",
      "Global Normalized Array:\n",
      "[[-0.53333333  0.56666667  2.26666667]\n",
      " [-0.53333333  1.66666667  3.46666667]\n",
      " [-1.73333333 -0.73333333 -0.43333333]\n",
      " [-1.73333333 -0.73333333 -1.53333333]]\n"
     ]
    }
   ],
   "source": [
    "var21 = np.array([[1.2, 2.3, 4.0],\n",
    "                  [1.2, 3.4, 5.2],\n",
    "                  [0.0, 1.0, 1.3],\n",
    "                  [0.0, 1.0, 2e-1]])\n",
    "\n",
    "# Compute row-wise mean\n",
    "var21_mean = var21.mean(axis=1, keepdims=True)\n",
    "print(\"Row-wise Mean:\")\n",
    "print(var21_mean)\n",
    "\n",
    "# Compute column-wise mean\n",
    "var21_mean_clm = var21.mean(axis=0, keepdims=True)\n",
    "print(\"Column-wise Mean:\")\n",
    "print(var21_mean_clm)\n",
    "\n",
    "# Row-wise mean subtraction\n",
    "row_normalized = var21 - var21_mean\n",
    "print(\"Row-wise Normalized Array:\")\n",
    "print(row_normalized)\n",
    "\n",
    "# Column-wise mean subtraction\n",
    "col_normalized = var21 - var21_mean_clm\n",
    "print(\"Column-wise Normalized Array:\")\n",
    "print(col_normalized)\n",
    "\n",
    "# Global mean normalization (entire array normalization)\n",
    "global_mean = var21.mean()  # Compute global mean\n",
    "global_normalized = var21 - global_mean\n",
    "print(\"Global Normalized Array:\")\n",
    "print(global_normalized)"
   ]
  },
  {
   "cell_type": "markdown",
   "metadata": {
    "id": "d1H1A0uLW-34"
   },
   "source": [
    "\n",
    "\n",
    "*   Can you think of an example of row wise normalization and column wise normalization?\n",
    "\n"
   ]
  },
  {
   "cell_type": "markdown",
   "metadata": {
    "id": "9wjQ96aYXKf3"
   },
   "source": [
    "**Solution**\n",
    "\n",
    "1. Row-wise Normalization:<br>\n",
    "In row-wise normalization, each row of the array is normalized individually, typically by subtracting the mean of the row and dividing by the standard deviation of that row. Broadcasting is used to perform the operation across all elements of a row.\n",
    "\n",
    "2. Column-wise Normalization:<br>\n",
    "In column-wise normalization, each column of the array is normalized individually, typically by subtracting the mean of the column and dividing by the standard deviation of the column. Again, broadcasting is used to ensure the operation is applied correctly to each column."
   ]
  },
  {
   "cell_type": "markdown",
   "metadata": {
    "id": "DxBNbsYPYJ3Q"
   },
   "source": [
    "\n",
    "\n",
    "---\n",
    "\n",
    "\n",
    "**It has to be noted that this is not a complete tutorial covering the complete numpy aspects. This is provided as an introduction to numpy and its ease of use in numerical computation.**"
   ]
  }
 ],
 "metadata": {
  "colab": {
   "collapsed_sections": [],
   "provenance": []
  },
  "kernelspec": {
   "display_name": ".venv",
   "language": "python",
   "name": "python3"
  },
  "language_info": {
   "codemirror_mode": {
    "name": "ipython",
    "version": 3
   },
   "file_extension": ".py",
   "mimetype": "text/x-python",
   "name": "python",
   "nbconvert_exporter": "python",
   "pygments_lexer": "ipython3",
   "version": "3.12.2"
  }
 },
 "nbformat": 4,
 "nbformat_minor": 1
}
